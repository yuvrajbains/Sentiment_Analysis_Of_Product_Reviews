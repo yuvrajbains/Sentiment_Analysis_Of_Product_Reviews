{
 "cells": [
  {
   "cell_type": "markdown",
   "id": "74c558c1",
   "metadata": {},
   "source": [
    "# Sephora Products Review Sentiment Analysis"
   ]
  },
  {
   "cell_type": "markdown",
   "id": "481f6a09",
   "metadata": {},
   "source": [
    "### Data Setup"
   ]
  },
  {
   "cell_type": "code",
   "execution_count": 2,
   "id": "989292bb",
   "metadata": {},
   "outputs": [],
   "source": [
    "# Importing required libraries\n",
    "import pandas as pd\n",
    "import glob"
   ]
  },
  {
   "cell_type": "code",
   "execution_count": 12,
   "id": "45312c61",
   "metadata": {},
   "outputs": [
    {
     "name": "stdout",
     "output_type": "stream",
     "text": [
      "  Unnamed: 0    author_id  rating  is_recommended helpfulness  \\\n",
      "0          0   1741593524     5.0             1.0         1.0   \n",
      "1          1  31423088263     1.0             0.0         NaN   \n",
      "2          2   5061282401     5.0             1.0         NaN   \n",
      "3          3   6083038851     5.0             1.0         NaN   \n",
      "4          4  47056667835     5.0             1.0         NaN   \n",
      "\n",
      "   total_feedback_count total_neg_feedback_count total_pos_feedback_count  \\\n",
      "0                   2.0                        0                        2   \n",
      "1                   0.0                        0                        0   \n",
      "2                   0.0                        0                        0   \n",
      "3                   0.0                        0                        0   \n",
      "4                   0.0                        0                        0   \n",
      "\n",
      "  submission_time                                        review_text  \\\n",
      "0      2023-02-01  I use this with the Nudestix “Citrus Clean Bal...   \n",
      "1      2023-03-21  I bought this lip mask after reading the revie...   \n",
      "2      2023-03-21  My review title says it all! I get so excited ...   \n",
      "3      2023-03-20  I’ve always loved this formula for a long time...   \n",
      "4      2023-03-20  If you have dry cracked lips, this is a must h...   \n",
      "\n",
      "                       review_title skin_tone eye_color    skin_type  \\\n",
      "0  Taught me how to double cleanse!       NaN     brown          dry   \n",
      "1                      Disappointed       NaN       NaN          NaN   \n",
      "2              New Favorite Routine     light     brown          dry   \n",
      "3   Can't go wrong with any of them       NaN     brown  combination   \n",
      "4                   A must have !!!     light     hazel  combination   \n",
      "\n",
      "  hair_color product_id                                       product_name  \\\n",
      "0      black    P504322                     Gentle Hydra-Gel Face Cleanser   \n",
      "1        NaN    P420652  Lip Sleeping Mask Intense Hydration with Vitam...   \n",
      "2     blonde    P420652  Lip Sleeping Mask Intense Hydration with Vitam...   \n",
      "3      black    P420652  Lip Sleeping Mask Intense Hydration with Vitam...   \n",
      "4        NaN    P420652  Lip Sleeping Mask Intense Hydration with Vitam...   \n",
      "\n",
      "  brand_name  price_usd  \n",
      "0   NUDESTIX       19.0  \n",
      "1    LANEIGE       24.0  \n",
      "2    LANEIGE       24.0  \n",
      "3    LANEIGE       24.0  \n",
      "4    LANEIGE       24.0  \n"
     ]
    }
   ],
   "source": [
    "file_path = '/Users/yuvrajbains/Desktop/Projects/Sentiment_Analysis_Of_Product_Reviews/data/reviews.csv'\n",
    "\n",
    "try:\n",
    "    # Using python engine\n",
    "    combined_df = pd.read_csv(file_path, sep=',', encoding='utf-8', on_bad_lines='skip', engine='python')\n",
    "    print(combined_df.head())\n",
    "except pd.errors.ParserError as e:\n",
    "    print(f'ParserError: {e}')"
   ]
  },
  {
   "cell_type": "markdown",
   "id": "8120d064",
   "metadata": {},
   "source": [
    "### Data Preprocessing"
   ]
  },
  {
   "cell_type": "code",
   "execution_count": 13,
   "id": "bbb589c4",
   "metadata": {},
   "outputs": [
    {
     "data": {
      "text/html": [
       "<div>\n",
       "<style scoped>\n",
       "    .dataframe tbody tr th:only-of-type {\n",
       "        vertical-align: middle;\n",
       "    }\n",
       "\n",
       "    .dataframe tbody tr th {\n",
       "        vertical-align: top;\n",
       "    }\n",
       "\n",
       "    .dataframe thead th {\n",
       "        text-align: right;\n",
       "    }\n",
       "</style>\n",
       "<table border=\"1\" class=\"dataframe\">\n",
       "  <thead>\n",
       "    <tr style=\"text-align: right;\">\n",
       "      <th></th>\n",
       "      <th>review_text</th>\n",
       "      <th>rating</th>\n",
       "    </tr>\n",
       "  </thead>\n",
       "  <tbody>\n",
       "    <tr>\n",
       "      <th>0</th>\n",
       "      <td>I use this with the Nudestix “Citrus Clean Bal...</td>\n",
       "      <td>5.0</td>\n",
       "    </tr>\n",
       "    <tr>\n",
       "      <th>1</th>\n",
       "      <td>I bought this lip mask after reading the revie...</td>\n",
       "      <td>1.0</td>\n",
       "    </tr>\n",
       "    <tr>\n",
       "      <th>2</th>\n",
       "      <td>My review title says it all! I get so excited ...</td>\n",
       "      <td>5.0</td>\n",
       "    </tr>\n",
       "    <tr>\n",
       "      <th>3</th>\n",
       "      <td>I’ve always loved this formula for a long time...</td>\n",
       "      <td>5.0</td>\n",
       "    </tr>\n",
       "    <tr>\n",
       "      <th>4</th>\n",
       "      <td>If you have dry cracked lips, this is a must h...</td>\n",
       "      <td>5.0</td>\n",
       "    </tr>\n",
       "    <tr>\n",
       "      <th>...</th>\n",
       "      <td>...</td>\n",
       "      <td>...</td>\n",
       "    </tr>\n",
       "    <tr>\n",
       "      <th>1095107</th>\n",
       "      <td>Consider salicylic acid your secret weapon for...</td>\n",
       "      <td>5.0</td>\n",
       "    </tr>\n",
       "    <tr>\n",
       "      <th>1095108</th>\n",
       "      <td>I’ve been using this as my only moisturizer fo...</td>\n",
       "      <td>5.0</td>\n",
       "    </tr>\n",
       "    <tr>\n",
       "      <th>1095109</th>\n",
       "      <td>I got breakouts whenever it’s my time of month...</td>\n",
       "      <td>5.0</td>\n",
       "    </tr>\n",
       "    <tr>\n",
       "      <th>1095110</th>\n",
       "      <td>I love this!!! I don’t get actual acne just an...</td>\n",
       "      <td>5.0</td>\n",
       "    </tr>\n",
       "    <tr>\n",
       "      <th>1095111</th>\n",
       "      <td>I have never tried anything from StriVectin bu...</td>\n",
       "      <td>5.0</td>\n",
       "    </tr>\n",
       "  </tbody>\n",
       "</table>\n",
       "<p>1095112 rows × 2 columns</p>\n",
       "</div>"
      ],
      "text/plain": [
       "                                               review_text  rating\n",
       "0        I use this with the Nudestix “Citrus Clean Bal...     5.0\n",
       "1        I bought this lip mask after reading the revie...     1.0\n",
       "2        My review title says it all! I get so excited ...     5.0\n",
       "3        I’ve always loved this formula for a long time...     5.0\n",
       "4        If you have dry cracked lips, this is a must h...     5.0\n",
       "...                                                    ...     ...\n",
       "1095107  Consider salicylic acid your secret weapon for...     5.0\n",
       "1095108  I’ve been using this as my only moisturizer fo...     5.0\n",
       "1095109  I got breakouts whenever it’s my time of month...     5.0\n",
       "1095110  I love this!!! I don’t get actual acne just an...     5.0\n",
       "1095111  I have never tried anything from StriVectin bu...     5.0\n",
       "\n",
       "[1095112 rows x 2 columns]"
      ]
     },
     "execution_count": 13,
     "metadata": {},
     "output_type": "execute_result"
    }
   ],
   "source": [
    "# Selecting relevant columns (Review text and Ratings)\n",
    "df = combined_df[['review_text', 'rating']].copy()\n",
    "df"
   ]
  },
  {
   "cell_type": "code",
   "execution_count": 14,
   "id": "9fcf5ab0",
   "metadata": {},
   "outputs": [
    {
     "data": {
      "text/html": [
       "<div>\n",
       "<style scoped>\n",
       "    .dataframe tbody tr th:only-of-type {\n",
       "        vertical-align: middle;\n",
       "    }\n",
       "\n",
       "    .dataframe tbody tr th {\n",
       "        vertical-align: top;\n",
       "    }\n",
       "\n",
       "    .dataframe thead th {\n",
       "        text-align: right;\n",
       "    }\n",
       "</style>\n",
       "<table border=\"1\" class=\"dataframe\">\n",
       "  <thead>\n",
       "    <tr style=\"text-align: right;\">\n",
       "      <th></th>\n",
       "      <th>review_text</th>\n",
       "      <th>rating</th>\n",
       "      <th>Sentiment</th>\n",
       "    </tr>\n",
       "  </thead>\n",
       "  <tbody>\n",
       "    <tr>\n",
       "      <th>0</th>\n",
       "      <td>I use this with the Nudestix “Citrus Clean Bal...</td>\n",
       "      <td>5.0</td>\n",
       "      <td>Positive</td>\n",
       "    </tr>\n",
       "    <tr>\n",
       "      <th>1</th>\n",
       "      <td>I bought this lip mask after reading the revie...</td>\n",
       "      <td>1.0</td>\n",
       "      <td>Negative</td>\n",
       "    </tr>\n",
       "    <tr>\n",
       "      <th>2</th>\n",
       "      <td>My review title says it all! I get so excited ...</td>\n",
       "      <td>5.0</td>\n",
       "      <td>Positive</td>\n",
       "    </tr>\n",
       "    <tr>\n",
       "      <th>3</th>\n",
       "      <td>I’ve always loved this formula for a long time...</td>\n",
       "      <td>5.0</td>\n",
       "      <td>Positive</td>\n",
       "    </tr>\n",
       "    <tr>\n",
       "      <th>4</th>\n",
       "      <td>If you have dry cracked lips, this is a must h...</td>\n",
       "      <td>5.0</td>\n",
       "      <td>Positive</td>\n",
       "    </tr>\n",
       "    <tr>\n",
       "      <th>...</th>\n",
       "      <td>...</td>\n",
       "      <td>...</td>\n",
       "      <td>...</td>\n",
       "    </tr>\n",
       "    <tr>\n",
       "      <th>1095107</th>\n",
       "      <td>Consider salicylic acid your secret weapon for...</td>\n",
       "      <td>5.0</td>\n",
       "      <td>Positive</td>\n",
       "    </tr>\n",
       "    <tr>\n",
       "      <th>1095108</th>\n",
       "      <td>I’ve been using this as my only moisturizer fo...</td>\n",
       "      <td>5.0</td>\n",
       "      <td>Positive</td>\n",
       "    </tr>\n",
       "    <tr>\n",
       "      <th>1095109</th>\n",
       "      <td>I got breakouts whenever it’s my time of month...</td>\n",
       "      <td>5.0</td>\n",
       "      <td>Positive</td>\n",
       "    </tr>\n",
       "    <tr>\n",
       "      <th>1095110</th>\n",
       "      <td>I love this!!! I don’t get actual acne just an...</td>\n",
       "      <td>5.0</td>\n",
       "      <td>Positive</td>\n",
       "    </tr>\n",
       "    <tr>\n",
       "      <th>1095111</th>\n",
       "      <td>I have never tried anything from StriVectin bu...</td>\n",
       "      <td>5.0</td>\n",
       "      <td>Positive</td>\n",
       "    </tr>\n",
       "  </tbody>\n",
       "</table>\n",
       "<p>1095112 rows × 3 columns</p>\n",
       "</div>"
      ],
      "text/plain": [
       "                                               review_text  rating Sentiment\n",
       "0        I use this with the Nudestix “Citrus Clean Bal...     5.0  Positive\n",
       "1        I bought this lip mask after reading the revie...     1.0  Negative\n",
       "2        My review title says it all! I get so excited ...     5.0  Positive\n",
       "3        I’ve always loved this formula for a long time...     5.0  Positive\n",
       "4        If you have dry cracked lips, this is a must h...     5.0  Positive\n",
       "...                                                    ...     ...       ...\n",
       "1095107  Consider salicylic acid your secret weapon for...     5.0  Positive\n",
       "1095108  I’ve been using this as my only moisturizer fo...     5.0  Positive\n",
       "1095109  I got breakouts whenever it’s my time of month...     5.0  Positive\n",
       "1095110  I love this!!! I don’t get actual acne just an...     5.0  Positive\n",
       "1095111  I have never tried anything from StriVectin bu...     5.0  Positive\n",
       "\n",
       "[1095112 rows x 3 columns]"
      ]
     },
     "execution_count": 14,
     "metadata": {},
     "output_type": "execute_result"
    }
   ],
   "source": [
    "# Converting ratings to sentiments\n",
    "# Rating 1-2 negative\n",
    "# Rating 3 neutral\n",
    "# Rating 4-5 positive\n",
    "df.loc[:, 'Sentiment'] = df['rating'].apply(\n",
    "    lambda x: 'Negative' if x in [1, 2] else ('Neutral' if x == 3 else 'Positive')\n",
    ")\n",
    "df"
   ]
  },
  {
   "cell_type": "code",
   "execution_count": 16,
   "id": "b68958e3",
   "metadata": {},
   "outputs": [],
   "source": [
    "# Text cleaning\n",
    "# Removing special characters etc. \n",
    "import re\n",
    "from nltk.corpus import stopwords\n",
    "stop_words = set(stopwords.words('english'))\n",
    "\n",
    "def preprocess_text(text):\n",
    "    text = re.sub(r'[^\\w\\s]', '', text.lower())\n",
    "    tokens = text.split()\n",
    "    tokens = [word for word in tokens if word not in stop_words]\n",
    "    return ' '.join(tokens)\n",
    "\n",
    "df['cleaned_text'] = df['review_text'].apply(preprocess_text)"
   ]
  },
  {
   "cell_type": "code",
   "execution_count": 17,
   "id": "248bed97",
   "metadata": {
    "scrolled": true
   },
   "outputs": [
    {
     "name": "stdout",
     "output_type": "stream",
     "text": [
      "                                         review_text  rating Sentiment  \\\n",
      "0  I use this with the Nudestix “Citrus Clean Bal...     5.0  Positive   \n",
      "1  I bought this lip mask after reading the revie...     1.0  Negative   \n",
      "2  My review title says it all! I get so excited ...     5.0  Positive   \n",
      "3  I’ve always loved this formula for a long time...     5.0  Positive   \n",
      "4  If you have dry cracked lips, this is a must h...     5.0  Positive   \n",
      "\n",
      "                                        cleaned_text  \n",
      "0  use nudestix citrus clean balm makeup melt dou...  \n",
      "1  bought lip mask reading reviews hype unfortuna...  \n",
      "2  review title says get excited get bed apply li...  \n",
      "3  ive always loved formula long time honestly do...  \n",
      "4  dry cracked lips must weeks use learned always...  \n"
     ]
    }
   ],
   "source": [
    "print(df.head())"
   ]
  },
  {
   "cell_type": "markdown",
   "id": "9a02076a",
   "metadata": {},
   "source": [
    "### Feature extraction"
   ]
  },
  {
   "cell_type": "code",
   "execution_count": 18,
   "id": "a9c2791b",
   "metadata": {},
   "outputs": [],
   "source": [
    "# Converting cleaned review text into numerical features\n",
    "\n",
    "from sklearn.feature_extraction.text import TfidfVectorizer\n",
    "\n",
    "tfidf = TfidfVectorizer(max_features=1000)\n",
    "X = tfidf.fit_transform(df['cleaned_text']).toarray()\n",
    "y = df['Sentiment']"
   ]
  },
  {
   "cell_type": "markdown",
   "id": "a20df967",
   "metadata": {},
   "source": [
    "### Model Building "
   ]
  },
  {
   "cell_type": "code",
   "execution_count": 19,
   "id": "24e89c84",
   "metadata": {},
   "outputs": [],
   "source": [
    "# Split data into training and testing sets\n",
    "\n",
    "from sklearn.model_selection import train_test_split\n",
    "\n",
    "X_train, X_test, y_train, y_test = train_test_split(X, y, test_size=0.2, random_state=42)"
   ]
  },
  {
   "cell_type": "code",
   "execution_count": 22,
   "id": "96f4de43",
   "metadata": {},
   "outputs": [
    {
     "data": {
      "text/html": [
       "<style>#sk-container-id-1 {color: black;}#sk-container-id-1 pre{padding: 0;}#sk-container-id-1 div.sk-toggleable {background-color: white;}#sk-container-id-1 label.sk-toggleable__label {cursor: pointer;display: block;width: 100%;margin-bottom: 0;padding: 0.3em;box-sizing: border-box;text-align: center;}#sk-container-id-1 label.sk-toggleable__label-arrow:before {content: \"▸\";float: left;margin-right: 0.25em;color: #696969;}#sk-container-id-1 label.sk-toggleable__label-arrow:hover:before {color: black;}#sk-container-id-1 div.sk-estimator:hover label.sk-toggleable__label-arrow:before {color: black;}#sk-container-id-1 div.sk-toggleable__content {max-height: 0;max-width: 0;overflow: hidden;text-align: left;background-color: #f0f8ff;}#sk-container-id-1 div.sk-toggleable__content pre {margin: 0.2em;color: black;border-radius: 0.25em;background-color: #f0f8ff;}#sk-container-id-1 input.sk-toggleable__control:checked~div.sk-toggleable__content {max-height: 200px;max-width: 100%;overflow: auto;}#sk-container-id-1 input.sk-toggleable__control:checked~label.sk-toggleable__label-arrow:before {content: \"▾\";}#sk-container-id-1 div.sk-estimator input.sk-toggleable__control:checked~label.sk-toggleable__label {background-color: #d4ebff;}#sk-container-id-1 div.sk-label input.sk-toggleable__control:checked~label.sk-toggleable__label {background-color: #d4ebff;}#sk-container-id-1 input.sk-hidden--visually {border: 0;clip: rect(1px 1px 1px 1px);clip: rect(1px, 1px, 1px, 1px);height: 1px;margin: -1px;overflow: hidden;padding: 0;position: absolute;width: 1px;}#sk-container-id-1 div.sk-estimator {font-family: monospace;background-color: #f0f8ff;border: 1px dotted black;border-radius: 0.25em;box-sizing: border-box;margin-bottom: 0.5em;}#sk-container-id-1 div.sk-estimator:hover {background-color: #d4ebff;}#sk-container-id-1 div.sk-parallel-item::after {content: \"\";width: 100%;border-bottom: 1px solid gray;flex-grow: 1;}#sk-container-id-1 div.sk-label:hover label.sk-toggleable__label {background-color: #d4ebff;}#sk-container-id-1 div.sk-serial::before {content: \"\";position: absolute;border-left: 1px solid gray;box-sizing: border-box;top: 0;bottom: 0;left: 50%;z-index: 0;}#sk-container-id-1 div.sk-serial {display: flex;flex-direction: column;align-items: center;background-color: white;padding-right: 0.2em;padding-left: 0.2em;position: relative;}#sk-container-id-1 div.sk-item {position: relative;z-index: 1;}#sk-container-id-1 div.sk-parallel {display: flex;align-items: stretch;justify-content: center;background-color: white;position: relative;}#sk-container-id-1 div.sk-item::before, #sk-container-id-1 div.sk-parallel-item::before {content: \"\";position: absolute;border-left: 1px solid gray;box-sizing: border-box;top: 0;bottom: 0;left: 50%;z-index: -1;}#sk-container-id-1 div.sk-parallel-item {display: flex;flex-direction: column;z-index: 1;position: relative;background-color: white;}#sk-container-id-1 div.sk-parallel-item:first-child::after {align-self: flex-end;width: 50%;}#sk-container-id-1 div.sk-parallel-item:last-child::after {align-self: flex-start;width: 50%;}#sk-container-id-1 div.sk-parallel-item:only-child::after {width: 0;}#sk-container-id-1 div.sk-dashed-wrapped {border: 1px dashed gray;margin: 0 0.4em 0.5em 0.4em;box-sizing: border-box;padding-bottom: 0.4em;background-color: white;}#sk-container-id-1 div.sk-label label {font-family: monospace;font-weight: bold;display: inline-block;line-height: 1.2em;}#sk-container-id-1 div.sk-label-container {text-align: center;}#sk-container-id-1 div.sk-container {/* jupyter's `normalize.less` sets `[hidden] { display: none; }` but bootstrap.min.css set `[hidden] { display: none !important; }` so we also need the `!important` here to be able to override the default hidden behavior on the sphinx rendered scikit-learn.org. See: https://github.com/scikit-learn/scikit-learn/issues/21755 */display: inline-block !important;position: relative;}#sk-container-id-1 div.sk-text-repr-fallback {display: none;}</style><div id=\"sk-container-id-1\" class=\"sk-top-container\"><div class=\"sk-text-repr-fallback\"><pre>MultinomialNB()</pre><b>In a Jupyter environment, please rerun this cell to show the HTML representation or trust the notebook. <br />On GitHub, the HTML representation is unable to render, please try loading this page with nbviewer.org.</b></div><div class=\"sk-container\" hidden><div class=\"sk-item\"><div class=\"sk-estimator sk-toggleable\"><input class=\"sk-toggleable__control sk-hidden--visually\" id=\"sk-estimator-id-1\" type=\"checkbox\" checked><label for=\"sk-estimator-id-1\" class=\"sk-toggleable__label sk-toggleable__label-arrow\">MultinomialNB</label><div class=\"sk-toggleable__content\"><pre>MultinomialNB()</pre></div></div></div></div></div>"
      ],
      "text/plain": [
       "MultinomialNB()"
      ]
     },
     "execution_count": 22,
     "metadata": {},
     "output_type": "execute_result"
    }
   ],
   "source": [
    "# Using Naive Bayes\n",
    "from sklearn.naive_bayes import MultinomialNB\n",
    "\n",
    "model = MultinomialNB()\n",
    "model.fit(X_train, y_train)"
   ]
  },
  {
   "cell_type": "code",
   "execution_count": 23,
   "id": "d8a08486",
   "metadata": {},
   "outputs": [],
   "source": [
    "# Make predictions on the test set\n",
    "y_pred = model.predict(X_test)"
   ]
  },
  {
   "cell_type": "code",
   "execution_count": 24,
   "id": "84fee1de",
   "metadata": {},
   "outputs": [
    {
     "name": "stdout",
     "output_type": "stream",
     "text": [
      "Accuracy: 0.84\n"
     ]
    }
   ],
   "source": [
    "# Evaluating Model\n",
    "from sklearn.metrics import accuracy_score\n",
    "\n",
    "# Calculate accuracy\n",
    "accuracy = accuracy_score(y_test, y_pred)\n",
    "print(f'Accuracy: {accuracy:.2f}')"
   ]
  },
  {
   "cell_type": "code",
   "execution_count": 31,
   "id": "156c9fe7",
   "metadata": {},
   "outputs": [
    {
     "name": "stdout",
     "output_type": "stream",
     "text": [
      "Confusion Matrix:\n",
      "[[ 14515   1548   6972]\n",
      " [  3425   3410   9517]\n",
      " [  2526   2062 175048]]\n"
     ]
    }
   ],
   "source": [
    "# Using a Confusion_matric to evaluate the number of correct and incorrrect classifications\n",
    "\n",
    "from sklearn.metrics import confusion_matrix\n",
    "\n",
    "# Confusion Matrix\n",
    "cm = confusion_matrix(y_test, y_pred)\n",
    "print('Confusion Matrix:')\n",
    "print(cm)"
   ]
  },
  {
   "cell_type": "code",
   "execution_count": 26,
   "id": "c96daf5b",
   "metadata": {},
   "outputs": [
    {
     "name": "stdout",
     "output_type": "stream",
     "text": [
      "Classification Report:\n",
      "              precision    recall  f1-score   support\n",
      "\n",
      "    Negative       0.84      0.19      0.31     23035\n",
      "     Neutral       0.55      0.01      0.02     16352\n",
      "    Positive       0.84      1.00      0.91    179636\n",
      "\n",
      "    accuracy                           0.84    219023\n",
      "   macro avg       0.75      0.40      0.41    219023\n",
      "weighted avg       0.82      0.84      0.78    219023\n",
      "\n"
     ]
    }
   ],
   "source": [
    "# Classification report\n",
    "\n",
    "from sklearn.metrics import classification_report\n",
    "\n",
    "# Classification Report\n",
    "report = classification_report(y_test, y_pred)\n",
    "print('Classification Report:')\n",
    "print(report)"
   ]
  },
  {
   "cell_type": "code",
   "execution_count": 27,
   "id": "c006ca98",
   "metadata": {},
   "outputs": [
    {
     "data": {
      "image/png": "[encoded data removed]",
      "text/plain": [
       "<Figure size 800x600 with 2 Axes>"
      ]
     },
     "metadata": {},
     "output_type": "display_data"
    }
   ],
   "source": [
    "# Visualize the results\n",
    "import seaborn as sns\n",
    "import matplotlib.pyplot as plt\n",
    "\n",
    "plt.figure(figsize=(8, 6))\n",
    "sns.heatmap(cm, annot=True, fmt='d', cmap='Blues', xticklabels=['Negative', 'Neutral', 'Positive'], yticklabels=['Negative', 'Neutral', 'Positive'])\n",
    "plt.ylabel('Actual')\n",
    "plt.xlabel('Predicted')\n",
    "plt.title('Confusion Matrix')\n",
    "plt.show()"
   ]
  },
  {
   "cell_type": "code",
   "execution_count": 28,
   "id": "da38c7b8",
   "metadata": {
    "scrolled": true
   },
   "outputs": [
    {
     "name": "stdout",
     "output_type": "stream",
     "text": [
      "Accuracy: 0.88\n",
      "Confusion Matrix:\n",
      "[[ 14515   1548   6972]\n",
      " [  3425   3410   9517]\n",
      " [  2526   2062 175048]]\n",
      "Classification Report:\n",
      "              precision    recall  f1-score   support\n",
      "\n",
      "    Negative       0.71      0.63      0.67     23035\n",
      "     Neutral       0.49      0.21      0.29     16352\n",
      "    Positive       0.91      0.97      0.94    179636\n",
      "\n",
      "    accuracy                           0.88    219023\n",
      "   macro avg       0.70      0.60      0.63    219023\n",
      "weighted avg       0.86      0.88      0.87    219023\n",
      "\n"
     ]
    },
    {
     "data": {
      "image/png": "[encoded data removed]",
      "text/plain": [
       "<Figure size 800x600 with 2 Axes>"
      ]
     },
     "metadata": {},
     "output_type": "display_data"
    }
   ],
   "source": [
    "from sklearn.linear_model import LogisticRegression\n",
    "\n",
    "tfidf = TfidfVectorizer(max_features=1000)  # Reduce the number of features to speed up\n",
    "X = tfidf.fit_transform(df['cleaned_text'])  # Use sparse matrix directly\n",
    "y = df['Sentiment']\n",
    "\n",
    "# Split the data\n",
    "X_train, X_test, y_train, y_test = train_test_split(X, y, test_size=0.2, random_state=42)\n",
    "\n",
    "# Initialize Logistic Regression model with efficient solver\n",
    "model = LogisticRegression(solver='saga', max_iter=500, n_jobs=-1)  # Use 'saga' solver for faster convergence\n",
    "\n",
    "# Train the model\n",
    "model.fit(X_train, y_train)\n",
    "\n",
    "# Make predictions\n",
    "y_pred = model.predict(X_test)\n",
    "\n",
    "# Calculate accuracy\n",
    "accuracy = accuracy_score(y_test, y_pred)\n",
    "print(f'Accuracy: {accuracy:.2f}')\n",
    "\n",
    "# Confusion Matrix\n",
    "cm = confusion_matrix(y_test, y_pred)\n",
    "print('Confusion Matrix:')\n",
    "print(cm)\n",
    "\n",
    "# Classification Report\n",
    "report = classification_report(y_test, y_pred)\n",
    "print('Classification Report:')\n",
    "print(report)\n",
    "\n",
    "# Optional: Visualize the confusion matrix\n",
    "plt.figure(figsize=(8, 6))\n",
    "sns.heatmap(cm, annot=True, fmt='d', cmap='Blues', xticklabels=['Negative', 'Neutral', 'Positive'], yticklabels=['Negative', 'Neutral', 'Positive'])\n",
    "plt.ylabel('Actual')\n",
    "plt.xlabel('Predicted')\n",
    "plt.title('Confusion Matrix')\n",
    "plt.show()"
   ]
  },
  {
   "cell_type": "code",
   "execution_count": null,
   "id": "55379150",
   "metadata": {},
   "outputs": [],
   "source": []
  }
 ],
 "metadata": {
  "kernelspec": {
   "display_name": "Python 3 (ipykernel)",
   "language": "python",
   "name": "python3"
  },
  "language_info": {
   "codemirror_mode": {
    "name": "ipython",
    "version": 3
   },
   "file_extension": ".py",
   "mimetype": "text/x-python",
   "name": "python",
   "nbconvert_exporter": "python",
   "pygments_lexer": "ipython3",
   "version": "3.11.5"
  }
 },
 "nbformat": 4,
 "nbformat_minor": 5
}
